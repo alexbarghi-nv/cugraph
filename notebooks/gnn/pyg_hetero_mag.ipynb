{
 "cells": [
  {
   "cell_type": "markdown",
   "metadata": {},
   "source": [
    "# PyG+cuGraph Heterogeneous MAG Example\n",
    "# Skip notebook test\n",
    "\n",
    "### Requires installation of PyG"
   ]
  },
  {
   "cell_type": "markdown",
   "metadata": {},
   "source": [
    "## Setup"
   ]
  },
  {
   "cell_type": "code",
   "execution_count": 1,
   "metadata": {},
   "outputs": [],
   "source": [
    "import sys\n",
    "import rmm\n",
    "\n",
    "rmm.reinitialize(pool_allocator=True,initial_pool_size=5e+9, maximum_pool_size=20e+9)"
   ]
  },
  {
   "cell_type": "markdown",
   "metadata": {},
   "source": [
    "## Load MAG into CPU Memory"
   ]
  },
  {
   "cell_type": "code",
   "execution_count": 3,
   "metadata": {},
   "outputs": [
    {
     "name": "stdout",
     "output_type": "stream",
     "text": [
      "Downloading http://snap.stanford.edu/ogb/data/nodeproppred/mag.zip\n"
     ]
    },
    {
     "name": "stderr",
     "output_type": "stream",
     "text": [
      "Downloaded 0.40 GB: 100%|██████████| 413/413 [00:15<00:00, 27.17it/s]\n"
     ]
    },
    {
     "name": "stdout",
     "output_type": "stream",
     "text": [
      "Extracting dataset/mag.zip\n",
      "Loading necessary files...\n",
      "This might take a while.\n",
      "Processing graphs...\n"
     ]
    },
    {
     "name": "stderr",
     "output_type": "stream",
     "text": [
      "100%|██████████| 1/1 [00:00<00:00, 21399.51it/s]"
     ]
    },
    {
     "name": "stdout",
     "output_type": "stream",
     "text": [
      "Saving...\n"
     ]
    },
    {
     "name": "stderr",
     "output_type": "stream",
     "text": [
      "\n"
     ]
    }
   ],
   "source": [
    "import cugraph\n",
    "import cudf\n",
    "from ogb.nodeproppred import NodePropPredDataset\n",
    "\n",
    "dataset = NodePropPredDataset(name = 'ogbn-mag') \n",
    "\n",
    "data = dataset[0]"
   ]
  },
  {
   "cell_type": "markdown",
   "metadata": {},
   "source": [
    "## Create PropertyGraph from MAG Data"
   ]
  },
  {
   "cell_type": "markdown",
   "metadata": {},
   "source": [
    "### Partially Load the Vertex Data (just ids)"
   ]
  },
  {
   "cell_type": "code",
   "execution_count": 4,
   "metadata": {},
   "outputs": [
    {
     "data": {
      "text/plain": [
       "{'author': 0,\n",
       " 'field_of_study': 1134649,\n",
       " 'institution': 1194614,\n",
       " 'paper': 1203354}"
      ]
     },
     "execution_count": 4,
     "metadata": {},
     "output_type": "execute_result"
    }
   ],
   "source": [
    "import cudf\n",
    "import dask_cudf\n",
    "import cugraph\n",
    "from cugraph.experimental import MGPropertyGraph\n",
    "from cugraph.experimental import PropertyGraph\n",
    "pG = PropertyGraph()\n",
    "\n",
    "vertex_offsets = {}\n",
    "last_offset = 0\n",
    "\n",
    "for node_type, num_nodes in data[0]['num_nodes_dict'].items():\n",
    "    vertex_offsets[node_type] = last_offset\n",
    "    last_offset += num_nodes\n",
    "    \n",
    "    blank_df = cudf.DataFrame({'id':range(vertex_offsets[node_type], vertex_offsets[node_type] + num_nodes)})\n",
    "    blank_df.id = blank_df.id.astype('int32')\n",
    "    if isinstance(pG, MGPropertyGraph):\n",
    "        blank_df = dask_cudf.from_cudf(blank_df, npartitions=2)\n",
    "    pG.add_vertex_data(blank_df, vertex_col_name='id', type_name=node_type)\n",
    "\n",
    "vertex_offsets"
   ]
  },
  {
   "cell_type": "markdown",
   "metadata": {},
   "source": [
    "### Add the Remaining Node Features"
   ]
  },
  {
   "cell_type": "code",
   "execution_count": 5,
   "metadata": {},
   "outputs": [],
   "source": [
    "for i, (node_type, node_features) in enumerate(data[0]['node_feat_dict'].items()):\n",
    "    vertex_offset = vertex_offsets[node_type]\n",
    "\n",
    "    feature_df = cudf.DataFrame(node_features)\n",
    "    feature_df.columns = [str(c) for c in range(feature_df.shape[1])]\n",
    "    feature_df['id'] = range(vertex_offset, vertex_offset + node_features.shape[0])\n",
    "    feature_df.id = feature_df.id.astype('int32')\n",
    "    if isinstance(pG, MGPropertyGraph):\n",
    "        feature_df = dask_cudf.from_cudf(feature_df, npartitions=2)\n",
    "\n",
    "    pG.add_vertex_data(feature_df, vertex_col_name='id', type_name=node_type)"
   ]
  },
  {
   "cell_type": "markdown",
   "metadata": {},
   "source": [
    "### Add the Edges"
   ]
  },
  {
   "cell_type": "code",
   "execution_count": 6,
   "metadata": {},
   "outputs": [
    {
     "name": "stdout",
     "output_type": "stream",
     "text": [
      "author affiliated_with institution\n",
      "author writes paper\n",
      "paper cites paper\n",
      "paper has_topic field_of_study\n"
     ]
    }
   ],
   "source": [
    "for i, (edge_key, eidx) in enumerate(data[0]['edge_index_dict'].items()):\n",
    "    node_type_src, edge_type, node_type_dst = edge_key\n",
    "    print(node_type_src, edge_type, node_type_dst)\n",
    "    vertex_offset_src = vertex_offsets[node_type_src]\n",
    "    vertex_offset_dst = vertex_offsets[node_type_dst]\n",
    "    eidx = [n + vertex_offset_src for n in eidx[0]], [n + vertex_offset_dst for n in eidx[1]]\n",
    "\n",
    "    edge_df = cudf.DataFrame({'src':eidx[0], 'dst':eidx[1]})\n",
    "    edge_df.src = edge_df.src.astype('int32')\n",
    "    edge_df.dst = edge_df.dst.astype('int32')\n",
    "    edge_df['type'] = edge_type\n",
    "    if isinstance(pG, MGPropertyGraph):\n",
    "        edge_df = dask_cudf.from_cudf(edge_df, npartitions=2)\n",
    "\n",
    "    # Adding backwards edges is currently required in both the cuGraph PG and PyG APIs.\n",
    "    pG.add_edge_data(edge_df, vertex_col_names=['src','dst'], type_name=edge_type)\n",
    "    pG.add_edge_data(edge_df, vertex_col_names=['dst','src'], type_name=f'{edge_type}_bw')"
   ]
  },
  {
   "cell_type": "markdown",
   "metadata": {},
   "source": [
    "### Add the Target Variable"
   ]
  },
  {
   "cell_type": "code",
   "execution_count": 7,
   "metadata": {},
   "outputs": [],
   "source": [
    "y_df = cudf.DataFrame(data[1]['paper'], columns=['y'])\n",
    "y_df['id'] = range(vertex_offsets['paper'], vertex_offsets['paper'] + len(y_df))\n",
    "y_df.id = y_df.id.astype('int32')\n",
    "if isinstance(pG, MGPropertyGraph):\n",
    "    y_df = dask_cudf.from_cudf(y_df, npartitions=2)\n",
    "\n",
    "pG.add_vertex_data(y_df, vertex_col_name='id', type_name='paper')"
   ]
  },
  {
   "cell_type": "markdown",
   "metadata": {},
   "source": [
    "### Construct a Graph Store, Feature Store, and Loaders"
   ]
  },
  {
   "cell_type": "code",
   "execution_count": 10,
   "metadata": {},
   "outputs": [
    {
     "ename": "ValueError",
     "evalue": "All columns must be the same type",
     "output_type": "error",
     "traceback": [
      "\u001b[0;31m---------------------------------------------------------------------------\u001b[0m",
      "\u001b[0;31mValueError\u001b[0m                                Traceback (most recent call last)",
      "Cell \u001b[0;32mIn [10], line 3\u001b[0m\n\u001b[1;32m      1\u001b[0m \u001b[38;5;28;01mfrom\u001b[39;00m \u001b[38;5;21;01mcugraph\u001b[39;00m\u001b[38;5;21;01m.\u001b[39;00m\u001b[38;5;21;01mgnn\u001b[39;00m\u001b[38;5;21;01m.\u001b[39;00m\u001b[38;5;21;01mpyg_extensions\u001b[39;00m \u001b[38;5;28;01mimport\u001b[39;00m to_pyg\n\u001b[0;32m----> 3\u001b[0m feature_store, graph_store \u001b[38;5;241m=\u001b[39m to_pyg(pG)\n",
      "File \u001b[0;32m/opt/conda/envs/rapids/lib/python3.9/site-packages/pylibcugraph-22.6.0a0+319.g4496cbad-py3.9-linux-x86_64.egg/pylibcugraph/utilities/api_tools.py:85\u001b[0m, in \u001b[0;36mexperimental_warning_wrapper.<locals>.warning_wrapper_function\u001b[0;34m(*args, **kwargs)\u001b[0m\n\u001b[1;32m     82\u001b[0m \u001b[39m@functools\u001b[39m\u001b[39m.\u001b[39mwraps(obj)\n\u001b[1;32m     83\u001b[0m \u001b[39mdef\u001b[39;00m \u001b[39mwarning_wrapper_function\u001b[39m(\u001b[39m*\u001b[39margs, \u001b[39m*\u001b[39m\u001b[39m*\u001b[39mkwargs):\n\u001b[1;32m     84\u001b[0m     warnings\u001b[39m.\u001b[39mwarn(warning_msg, \u001b[39mPendingDeprecationWarning\u001b[39;00m)\n\u001b[0;32m---> 85\u001b[0m     \u001b[39mreturn\u001b[39;00m obj(\u001b[39m*\u001b[39;49margs, \u001b[39m*\u001b[39;49m\u001b[39m*\u001b[39;49mkwargs)\n",
      "File \u001b[0;32m/opt/conda/envs/rapids/lib/python3.9/site-packages/cugraph-22.6.0a0+319.g4496cbad.dirty-py3.9-linux-x86_64.egg/cugraph/gnn/pyg_extensions/data/cugraph_store.py:88\u001b[0m, in \u001b[0;36mEXPERIMENTAL__to_pyg\u001b[0;34m(G, backend)\u001b[0m\n\u001b[1;32m     73\u001b[0m \u001b[39mdef\u001b[39;00m \u001b[39mEXPERIMENTAL__to_pyg\u001b[39m(G, backend\u001b[39m=\u001b[39m\u001b[39m'\u001b[39m\u001b[39mtorch\u001b[39m\u001b[39m'\u001b[39m):\n\u001b[1;32m     74\u001b[0m     \u001b[39m\"\"\"\u001b[39;00m\n\u001b[1;32m     75\u001b[0m \u001b[39m        Returns the PyG wrappers for the provided PropertyGraph or\u001b[39;00m\n\u001b[1;32m     76\u001b[0m \u001b[39m        MGPropertyGraph.\u001b[39;00m\n\u001b[0;32m   (...)\u001b[0m\n\u001b[1;32m     86\u001b[0m \u001b[39m        Wrappers for the provided property graph.\u001b[39;00m\n\u001b[1;32m     87\u001b[0m \u001b[39m    \"\"\"\u001b[39;00m\n\u001b[0;32m---> 88\u001b[0m     store \u001b[39m=\u001b[39m EXPERIMENTAL__CuGraphStore(G, backend\u001b[39m=\u001b[39;49mbackend)\n\u001b[1;32m     89\u001b[0m     \u001b[39mreturn\u001b[39;00m (store, store)\n",
      "File \u001b[0;32m/opt/conda/envs/rapids/lib/python3.9/site-packages/cugraph-22.6.0a0+319.g4496cbad.dirty-py3.9-linux-x86_64.egg/cugraph/gnn/pyg_extensions/data/cugraph_store.py:210\u001b[0m, in \u001b[0;36mEXPERIMENTAL__CuGraphStore.__init__\u001b[0;34m(self, G, reserved_keys, backend)\u001b[0m\n\u001b[1;32m    208\u001b[0m \u001b[39mself\u001b[39m\u001b[39m.\u001b[39m_tensor_attr_cls \u001b[39m=\u001b[39m CuGraphTensorAttr\n\u001b[1;32m    209\u001b[0m \u001b[39mself\u001b[39m\u001b[39m.\u001b[39m_tensor_attr_dict \u001b[39m=\u001b[39m defaultdict(\u001b[39mlist\u001b[39m)\n\u001b[0;32m--> 210\u001b[0m \u001b[39mself\u001b[39;49m\u001b[39m.\u001b[39;49m__infer_x_and_y_tensors()\n\u001b[1;32m    212\u001b[0m \u001b[39mself\u001b[39m\u001b[39m.\u001b[39m__edge_types_to_attrs \u001b[39m=\u001b[39m {}\n\u001b[1;32m    213\u001b[0m \u001b[39mfor\u001b[39;00m edge_type \u001b[39min\u001b[39;00m \u001b[39mself\u001b[39m\u001b[39m.\u001b[39m__graph\u001b[39m.\u001b[39medge_types:\n",
      "File \u001b[0;32m/opt/conda/envs/rapids/lib/python3.9/site-packages/cugraph-22.6.0a0+319.g4496cbad.dirty-py3.9-linux-x86_64.egg/cugraph/gnn/pyg_extensions/data/cugraph_store.py:551\u001b[0m, in \u001b[0;36mEXPERIMENTAL__CuGraphStore.__infer_x_and_y_tensors\u001b[0;34m(self)\u001b[0m\n\u001b[1;32m    547\u001b[0m \u001b[39mdef\u001b[39;00m \u001b[39m__infer_x_and_y_tensors\u001b[39m(\u001b[39mself\u001b[39m):\n\u001b[1;32m    548\u001b[0m     \u001b[39m\"\"\"\u001b[39;00m\n\u001b[1;32m    549\u001b[0m \u001b[39m    Infers the x and y default tensor attributes/features.\u001b[39;00m\n\u001b[1;32m    550\u001b[0m \u001b[39m    \"\"\"\u001b[39;00m\n\u001b[0;32m--> 551\u001b[0m     \u001b[39mfor\u001b[39;00m vtype \u001b[39min\u001b[39;00m \u001b[39mself\u001b[39;49m\u001b[39m.\u001b[39;49m__graph\u001b[39m.\u001b[39;49mvertex_types:\n\u001b[1;32m    552\u001b[0m         df \u001b[39m=\u001b[39m \u001b[39mself\u001b[39m\u001b[39m.\u001b[39m__graph\u001b[39m.\u001b[39mget_vertex_data(types\u001b[39m=\u001b[39m[vtype])\n\u001b[1;32m    553\u001b[0m         \u001b[39mfor\u001b[39;00m rk \u001b[39min\u001b[39;00m \u001b[39mself\u001b[39m\u001b[39m.\u001b[39m__reserved_keys:\n",
      "File \u001b[0;32m/opt/conda/envs/rapids/lib/python3.9/site-packages/cugraph-22.6.0a0+319.g4496cbad.dirty-py3.9-linux-x86_64.egg/cugraph/structure/property_graph.py:187\u001b[0m, in \u001b[0;36mEXPERIMENTAL__PropertyGraph.vertex_types\u001b[0;34m(self)\u001b[0m\n\u001b[1;32m    185\u001b[0m     names \u001b[39m=\u001b[39m \u001b[39mset\u001b[39m(value_counts\u001b[39m.\u001b[39mindex)\n\u001b[1;32m    186\u001b[0m default \u001b[39m=\u001b[39m \u001b[39mself\u001b[39m\u001b[39m.\u001b[39m_default_type_name\n\u001b[0;32m--> 187\u001b[0m \u001b[39mif\u001b[39;00m default \u001b[39mnot\u001b[39;00m \u001b[39min\u001b[39;00m names \u001b[39mand\u001b[39;00m \u001b[39mself\u001b[39;49m\u001b[39m.\u001b[39;49mget_num_vertices(default) \u001b[39m>\u001b[39m \u001b[39m0\u001b[39m:\n\u001b[1;32m    188\u001b[0m     \u001b[39m# include \"\" from vertices that only exist in edge data\u001b[39;00m\n\u001b[1;32m    189\u001b[0m     names\u001b[39m.\u001b[39madd(default)\n\u001b[1;32m    190\u001b[0m \u001b[39mreturn\u001b[39;00m names\n",
      "File \u001b[0;32m/opt/conda/envs/rapids/lib/python3.9/site-packages/cugraph-22.6.0a0+319.g4496cbad.dirty-py3.9-linux-x86_64.egg/cugraph/structure/property_graph.py:278\u001b[0m, in \u001b[0;36mEXPERIMENTAL__PropertyGraph.get_num_vertices\u001b[0;34m(self, type, include_edge_data)\u001b[0m\n\u001b[1;32m    275\u001b[0m     \u001b[39mif\u001b[39;00m \u001b[39mself\u001b[39m\u001b[39m.\u001b[39m__vertex_prop_dataframe \u001b[39mis\u001b[39;00m \u001b[39mNone\u001b[39;00m:\n\u001b[1;32m    276\u001b[0m         \u001b[39mreturn\u001b[39;00m \u001b[39mself\u001b[39m\u001b[39m.\u001b[39mget_num_vertices()\n\u001b[1;32m    277\u001b[0m     \u001b[39mreturn\u001b[39;00m (\n\u001b[0;32m--> 278\u001b[0m         \u001b[39mself\u001b[39;49m\u001b[39m.\u001b[39;49mget_num_vertices()\n\u001b[1;32m    279\u001b[0m         \u001b[39m-\u001b[39m \u001b[39mlen\u001b[39m(\u001b[39mself\u001b[39m\u001b[39m.\u001b[39m__vertex_prop_dataframe)\n\u001b[1;32m    280\u001b[0m         \u001b[39m+\u001b[39m (value_counts[\u001b[39mtype\u001b[39m] \u001b[39mif\u001b[39;00m \u001b[39mtype\u001b[39m \u001b[39min\u001b[39;00m value_counts \u001b[39melse\u001b[39;00m \u001b[39m0\u001b[39m)\n\u001b[1;32m    281\u001b[0m     )\n\u001b[1;32m    282\u001b[0m \u001b[39mif\u001b[39;00m \u001b[39mself\u001b[39m\u001b[39m.\u001b[39m__vertex_prop_dataframe \u001b[39mis\u001b[39;00m \u001b[39mNone\u001b[39;00m:\n\u001b[1;32m    283\u001b[0m     \u001b[39mreturn\u001b[39;00m \u001b[39m0\u001b[39m\n",
      "File \u001b[0;32m/opt/conda/envs/rapids/lib/python3.9/site-packages/cugraph-22.6.0a0+319.g4496cbad.dirty-py3.9-linux-x86_64.egg/cugraph/structure/property_graph.py:267\u001b[0m, in \u001b[0;36mEXPERIMENTAL__PropertyGraph.get_num_vertices\u001b[0;34m(self, type, include_edge_data)\u001b[0m\n\u001b[1;32m    265\u001b[0m \u001b[39mif\u001b[39;00m vert_sers:\n\u001b[1;32m    266\u001b[0m     \u001b[39mif\u001b[39;00m \u001b[39mself\u001b[39m\u001b[39m.\u001b[39m__series_type \u001b[39mis\u001b[39;00m cudf\u001b[39m.\u001b[39mSeries:\n\u001b[0;32m--> 267\u001b[0m         \u001b[39mself\u001b[39m\u001b[39m.\u001b[39m__num_vertices \u001b[39m=\u001b[39m cudf\u001b[39m.\u001b[39;49mconcat(vert_sers)\u001b[39m.\u001b[39mnunique()\n\u001b[1;32m    268\u001b[0m     \u001b[39melse\u001b[39;00m:\n\u001b[1;32m    269\u001b[0m         \u001b[39mself\u001b[39m\u001b[39m.\u001b[39m__num_vertices \u001b[39m=\u001b[39m pd\u001b[39m.\u001b[39mconcat(vert_sers)\u001b[39m.\u001b[39mnunique()\n",
      "File \u001b[0;32m/opt/conda/envs/rapids/lib/python3.9/site-packages/cudf/core/reshape.py:416\u001b[0m, in \u001b[0;36mconcat\u001b[0;34m(objs, axis, join, ignore_index, sort)\u001b[0m\n\u001b[1;32m    414\u001b[0m         \u001b[39mreturn\u001b[39;00m objs[\u001b[39m0\u001b[39m]\n\u001b[1;32m    415\u001b[0m     \u001b[39melse\u001b[39;00m:\n\u001b[0;32m--> 416\u001b[0m         \u001b[39mreturn\u001b[39;00m cudf\u001b[39m.\u001b[39;49mSeries\u001b[39m.\u001b[39;49m_concat(\n\u001b[1;32m    417\u001b[0m             objs, axis\u001b[39m=\u001b[39;49maxis, index\u001b[39m=\u001b[39;49m\u001b[39mNone\u001b[39;49;00m \u001b[39mif\u001b[39;49;00m ignore_index \u001b[39melse\u001b[39;49;00m \u001b[39mTrue\u001b[39;49;00m\n\u001b[1;32m    418\u001b[0m         )\n\u001b[1;32m    419\u001b[0m \u001b[39melif\u001b[39;00m typ \u001b[39mis\u001b[39;00m cudf\u001b[39m.\u001b[39mMultiIndex:\n\u001b[1;32m    420\u001b[0m     \u001b[39mreturn\u001b[39;00m cudf\u001b[39m.\u001b[39mMultiIndex\u001b[39m.\u001b[39m_concat(objs)\n",
      "File \u001b[0;32m/opt/conda/envs/rapids/lib/python3.9/contextlib.py:79\u001b[0m, in \u001b[0;36mContextDecorator.__call__.<locals>.inner\u001b[0;34m(*args, **kwds)\u001b[0m\n\u001b[1;32m     76\u001b[0m \u001b[39m@wraps\u001b[39m(func)\n\u001b[1;32m     77\u001b[0m \u001b[39mdef\u001b[39;00m \u001b[39minner\u001b[39m(\u001b[39m*\u001b[39margs, \u001b[39m*\u001b[39m\u001b[39m*\u001b[39mkwds):\n\u001b[1;32m     78\u001b[0m     \u001b[39mwith\u001b[39;00m \u001b[39mself\u001b[39m\u001b[39m.\u001b[39m_recreate_cm():\n\u001b[0;32m---> 79\u001b[0m         \u001b[39mreturn\u001b[39;00m func(\u001b[39m*\u001b[39;49margs, \u001b[39m*\u001b[39;49m\u001b[39m*\u001b[39;49mkwds)\n",
      "File \u001b[0;32m/opt/conda/envs/rapids/lib/python3.9/site-packages/cudf/core/series.py:1356\u001b[0m, in \u001b[0;36mSeries._concat\u001b[0;34m(cls, objs, axis, index)\u001b[0m\n\u001b[1;32m   1354\u001b[0m         index \u001b[39m=\u001b[39m cudf\u001b[39m.\u001b[39mMultiIndex\u001b[39m.\u001b[39m_concat([o\u001b[39m.\u001b[39mindex \u001b[39mfor\u001b[39;00m o \u001b[39min\u001b[39;00m objs])\n\u001b[1;32m   1355\u001b[0m     \u001b[39melse\u001b[39;00m:\n\u001b[0;32m-> 1356\u001b[0m         index \u001b[39m=\u001b[39m cudf\u001b[39m.\u001b[39;49mcore\u001b[39m.\u001b[39;49mindex\u001b[39m.\u001b[39;49mGenericIndex\u001b[39m.\u001b[39;49m_concat(\n\u001b[1;32m   1357\u001b[0m             [o\u001b[39m.\u001b[39;49mindex \u001b[39mfor\u001b[39;49;00m o \u001b[39min\u001b[39;49;00m objs]\n\u001b[1;32m   1358\u001b[0m         )\n\u001b[1;32m   1360\u001b[0m names \u001b[39m=\u001b[39m {obj\u001b[39m.\u001b[39mname \u001b[39mfor\u001b[39;00m obj \u001b[39min\u001b[39;00m objs}\n\u001b[1;32m   1361\u001b[0m \u001b[39mif\u001b[39;00m \u001b[39mlen\u001b[39m(names) \u001b[39m==\u001b[39m \u001b[39m1\u001b[39m:\n",
      "File \u001b[0;32m/opt/conda/envs/rapids/lib/python3.9/contextlib.py:79\u001b[0m, in \u001b[0;36mContextDecorator.__call__.<locals>.inner\u001b[0;34m(*args, **kwds)\u001b[0m\n\u001b[1;32m     76\u001b[0m \u001b[39m@wraps\u001b[39m(func)\n\u001b[1;32m     77\u001b[0m \u001b[39mdef\u001b[39;00m \u001b[39minner\u001b[39m(\u001b[39m*\u001b[39margs, \u001b[39m*\u001b[39m\u001b[39m*\u001b[39mkwds):\n\u001b[1;32m     78\u001b[0m     \u001b[39mwith\u001b[39;00m \u001b[39mself\u001b[39m\u001b[39m.\u001b[39m_recreate_cm():\n\u001b[0;32m---> 79\u001b[0m         \u001b[39mreturn\u001b[39;00m func(\u001b[39m*\u001b[39;49margs, \u001b[39m*\u001b[39;49m\u001b[39m*\u001b[39;49mkwds)\n",
      "File \u001b[0;32m/opt/conda/envs/rapids/lib/python3.9/site-packages/cudf/core/index.py:1041\u001b[0m, in \u001b[0;36mGenericIndex._concat\u001b[0;34m(cls, objs)\u001b[0m\n\u001b[1;32m   1039\u001b[0m     result \u001b[39m=\u001b[39m _concat_range_index(objs)\n\u001b[1;32m   1040\u001b[0m \u001b[39melse\u001b[39;00m:\n\u001b[0;32m-> 1041\u001b[0m     data \u001b[39m=\u001b[39m concat_columns([o\u001b[39m.\u001b[39;49m_values \u001b[39mfor\u001b[39;49;00m o \u001b[39min\u001b[39;49;00m objs])\n\u001b[1;32m   1042\u001b[0m     result \u001b[39m=\u001b[39m as_index(data)\n\u001b[1;32m   1044\u001b[0m names \u001b[39m=\u001b[39m {obj\u001b[39m.\u001b[39mname \u001b[39mfor\u001b[39;00m obj \u001b[39min\u001b[39;00m objs}\n",
      "File \u001b[0;32m/opt/conda/envs/rapids/lib/python3.9/site-packages/cudf/core/column/column.py:2415\u001b[0m, in \u001b[0;36mconcat_columns\u001b[0;34m(objs)\u001b[0m\n\u001b[1;32m   2411\u001b[0m             objs[i] \u001b[39m=\u001b[39m column_empty_like(\n\u001b[1;32m   2412\u001b[0m                 head, dtype\u001b[39m=\u001b[39mhead\u001b[39m.\u001b[39mdtype, masked\u001b[39m=\u001b[39m\u001b[39mTrue\u001b[39;00m, newsize\u001b[39m=\u001b[39m\u001b[39mlen\u001b[39m(obj)\n\u001b[1;32m   2413\u001b[0m             )\n\u001b[1;32m   2414\u001b[0m         \u001b[39melse\u001b[39;00m:\n\u001b[0;32m-> 2415\u001b[0m             \u001b[39mraise\u001b[39;00m \u001b[39mValueError\u001b[39;00m(\u001b[39m\"\u001b[39m\u001b[39mAll columns must be the same type\u001b[39m\u001b[39m\"\u001b[39m)\n\u001b[1;32m   2417\u001b[0m \u001b[39m# TODO: This logic should be generalized to a dispatch to\u001b[39;00m\n\u001b[1;32m   2418\u001b[0m \u001b[39m# ColumnBase._concat so that all subclasses can override necessary\u001b[39;00m\n\u001b[1;32m   2419\u001b[0m \u001b[39m# behavior. However, at the moment it's not clear what that API should look\u001b[39;00m\n\u001b[1;32m   2420\u001b[0m \u001b[39m# like, so CategoricalColumn simply implements a minimal working API.\u001b[39;00m\n\u001b[1;32m   2421\u001b[0m \u001b[39mif\u001b[39;00m \u001b[39mall\u001b[39m(is_categorical_dtype(o\u001b[39m.\u001b[39mdtype) \u001b[39mfor\u001b[39;00m o \u001b[39min\u001b[39;00m objs):\n",
      "\u001b[0;31mValueError\u001b[0m: All columns must be the same type"
     ]
    }
   ],
   "source": [
    "from cugraph.gnn.pyg_extensions import to_pyg\n",
    "\n",
    "feature_store, graph_store = to_pyg(pG)"
   ]
  },
  {
   "cell_type": "code",
   "execution_count": null,
   "metadata": {},
   "outputs": [],
   "source": [
    "from torch_geometric.loader import LinkNeighborLoader\n",
    "from cugraph.gnn.pyg_extensions import CuGraphLinkNeighborLoader\n",
    "loader = CuGraphLinkNeighborLoader(\n",
    "    data=(feature_store, graph_store),\n",
    "    edge_label_index='writes',\n",
    "    shuffle=True,\n",
    "    num_neighbors=[10,25],\n",
    "    batch_size=50,\n",
    ")\n",
    "\n",
    "test_loader = CuGraphLinkNeighborLoader(\n",
    "    data=(feature_store, graph_store),\n",
    "    edge_label_index='writes',\n",
    "    shuffle=True,\n",
    "    num_neighbors=[10,25],\n",
    "    batch_size=50,\n",
    ")\n"
   ]
  },
  {
   "cell_type": "markdown",
   "metadata": {},
   "source": [
    "### Create the Network"
   ]
  },
  {
   "cell_type": "code",
   "execution_count": null,
   "metadata": {},
   "outputs": [],
   "source": [
    "edge_types = [attr.edge_type for attr in graph_store.get_all_edge_attrs()]\n",
    "edge_types"
   ]
  },
  {
   "cell_type": "code",
   "execution_count": null,
   "metadata": {},
   "outputs": [],
   "source": [
    "num_classes = pG.get_vertex_data(columns=['y'])['y'].max() + 1\n",
    "if isinstance(pG, MGPropertyGraph):\n",
    "    num_classes = num_classes.compute()\n",
    "num_classes"
   ]
  },
  {
   "cell_type": "code",
   "execution_count": null,
   "metadata": {},
   "outputs": [],
   "source": [
    "import torch\n",
    "import torch.nn.functional as F\n",
    "\n",
    "from torch_geometric.nn import HeteroConv, Linear, SAGEConv\n",
    "\n",
    "class HeteroGNN(torch.nn.Module):\n",
    "    def __init__(self, edge_types, hidden_channels, out_channels, num_layers):\n",
    "        super().__init__()\n",
    "\n",
    "        self.convs = torch.nn.ModuleList()\n",
    "        for _ in range(num_layers):\n",
    "            conv = HeteroConv({\n",
    "                edge_type: SAGEConv((-1, -1), hidden_channels)\n",
    "                for edge_type in edge_types\n",
    "            })\n",
    "            self.convs.append(conv)\n",
    "\n",
    "        self.lin = Linear(hidden_channels, out_channels)\n",
    "\n",
    "    def forward(self, x_dict, edge_index_dict):\n",
    "        for conv in self.convs:\n",
    "            x_dict = conv(x_dict, edge_index_dict)\n",
    "            x_dict = {key: F.leaky_relu(x) for key, x in x_dict.items()}\n",
    "        print(x_dict, edge_index_dict)\n",
    "        return self.lin(x_dict['paper'])\n",
    "\n",
    "\n",
    "model = HeteroGNN(edge_types, hidden_channels=64, out_channels=num_classes,\n",
    "                  num_layers=2).cuda()\n",
    "\n",
    "with torch.no_grad():  # Initialize lazy modules.\n",
    "    data = next(iter(loader))\n",
    "    out = model(data.x_dict, data.edge_index_dict)\n",
    "\n",
    "optimizer = torch.optim.Adam(model.parameters(), lr=0.005, weight_decay=0.001)\n",
    "\n",
    "num_batches = 5\n",
    "def train():\n",
    "    model.train()\n",
    "    optimizer.zero_grad()\n",
    "    for b_i, data in enumerate(loader):\n",
    "        if b_i == num_batches:\n",
    "            break\n",
    "\n",
    "        out = model(data.x_dict, data.edge_index_dict)\n",
    "        loss = F.cross_entropy(out, data.y_dict['paper'])\n",
    "        loss.backward()\n",
    "        optimizer.step()\n",
    "    \n",
    "    return float(loss) / num_batches\n",
    "\n",
    "\n",
    "@torch.no_grad()\n",
    "def test():\n",
    "    model.eval()\n",
    "    test_iter = iter(test_loader)\n",
    "\n",
    "    acc = 0.0\n",
    "    for _ in range(2*num_batches):\n",
    "        data = next(test_iter)\n",
    "        pred = model(data.x_dict, data.edge_index_dict).argmax(dim=-1)\n",
    "\n",
    "        \n",
    "        acc += (pred == data['paper'].y).sum() / len(data['paper'])\n",
    "    return acc / (2*num_batches)\n",
    "\n",
    "\n",
    "for epoch in range(1, 101):\n",
    "    loss = train()\n",
    "    train_acc = test()\n",
    "    print(f'Epoch: {epoch:03d}, Loss: {loss:.4f}, Train: {train_acc:.4f}')\n"
   ]
  },
  {
   "cell_type": "markdown",
   "metadata": {},
   "source": [
    "### Train the Network"
   ]
  },
  {
   "cell_type": "code",
   "execution_count": null,
   "metadata": {},
   "outputs": [],
   "source": [
    "for epoch in range(1, 101):\n",
    "    loss = train()\n",
    "    train_acc = test()\n",
    "    print(f'Epoch: {epoch:03d}, Loss: {loss:.4f}, Train: {train_acc:.4f}')"
   ]
  }
 ],
 "metadata": {
  "kernelspec": {
   "display_name": "Python 3.9.7 ('base')",
   "language": "python",
   "name": "python3"
  },
  "language_info": {
   "codemirror_mode": {
    "name": "ipython",
    "version": 3
   },
   "file_extension": ".py",
   "mimetype": "text/x-python",
   "name": "python",
   "nbconvert_exporter": "python",
   "pygments_lexer": "ipython3",
   "version": "3.9.13"
  },
  "orig_nbformat": 4,
  "vscode": {
   "interpreter": {
    "hash": "f708a36acfaef0acf74ccd43dfb58100269bf08fb79032a1e0a6f35bd9856f51"
   }
  }
 },
 "nbformat": 4,
 "nbformat_minor": 2
}
