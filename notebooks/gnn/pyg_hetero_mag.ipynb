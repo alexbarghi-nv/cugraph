{
 "cells": [
  {
   "cell_type": "markdown",
   "metadata": {},
   "source": [
    "# PyG+cuGraph Heterogeneous MAG Example\n",
    "# Skip notebook test\n",
    "\n",
    "### Requires installation of PyG"
   ]
  },
  {
   "cell_type": "markdown",
   "metadata": {},
   "source": [
    "## Setup"
   ]
  },
  {
   "cell_type": "code",
   "execution_count": 1,
   "metadata": {},
   "outputs": [],
   "source": [
    "import sys\n",
    "import rmm\n",
    "\n",
    "rmm.reinitialize(pool_allocator=True,initial_pool_size=5e+9, maximum_pool_size=20e+9)\n",
    "sys.path.append('/work/pytorch_geometric/')"
   ]
  },
  {
   "cell_type": "markdown",
   "metadata": {},
   "source": [
    "## Load MAG into CPU Memory"
   ]
  },
  {
   "cell_type": "code",
   "execution_count": 2,
   "metadata": {},
   "outputs": [],
   "source": [
    "import cugraph\n",
    "import cudf\n",
    "from ogb.nodeproppred import NodePropPredDataset\n",
    "\n",
    "dataset = NodePropPredDataset(name = 'ogbn-mag') \n",
    "\n",
    "data = dataset[0]"
   ]
  },
  {
   "cell_type": "markdown",
   "metadata": {},
   "source": [
    "## Create PropertyGraph from MAG Data"
   ]
  },
  {
   "cell_type": "markdown",
   "metadata": {},
   "source": [
    "### Partially Load the Vertex Data (just ids)"
   ]
  },
  {
   "cell_type": "code",
   "execution_count": 3,
   "metadata": {},
   "outputs": [
    {
     "data": {
      "text/plain": [
       "{'author': 0,\n",
       " 'field_of_study': 1134649,\n",
       " 'institution': 1194614,\n",
       " 'paper': 1203354}"
      ]
     },
     "execution_count": 3,
     "metadata": {},
     "output_type": "execute_result"
    }
   ],
   "source": [
    "import cudf\n",
    "import dask_cudf\n",
    "import cugraph\n",
    "from cugraph.experimental import MGPropertyGraph\n",
    "from cugraph.experimental import PropertyGraph\n",
    "pG = PropertyGraph()\n",
    "\n",
    "vertex_offsets = {}\n",
    "last_offset = 0\n",
    "\n",
    "for node_type, num_nodes in data[0]['num_nodes_dict'].items():\n",
    "    vertex_offsets[node_type] = last_offset\n",
    "    last_offset += num_nodes\n",
    "    \n",
    "    blank_df = cudf.DataFrame({'id':range(vertex_offsets[node_type], vertex_offsets[node_type] + num_nodes)})\n",
    "    blank_df.id = blank_df.id.astype('int32')\n",
    "    if isinstance(pG, MGPropertyGraph):\n",
    "        blank_df = dask_cudf.from_cudf(blank_df, npartitions=2)\n",
    "    pG.add_vertex_data(blank_df, vertex_col_name='id', type_name=node_type)\n",
    "\n",
    "vertex_offsets"
   ]
  },
  {
   "cell_type": "markdown",
   "metadata": {},
   "source": [
    "### Add the Remaining Node Features"
   ]
  },
  {
   "cell_type": "code",
   "execution_count": 4,
   "metadata": {},
   "outputs": [],
   "source": [
    "for i, (node_type, node_features) in enumerate(data[0]['node_feat_dict'].items()):\n",
    "    vertex_offset = vertex_offsets[node_type]\n",
    "\n",
    "    feature_df = cudf.DataFrame(node_features)\n",
    "    feature_df.columns = [str(c) for c in range(feature_df.shape[1])]\n",
    "    feature_df['id'] = range(vertex_offset, vertex_offset + node_features.shape[0])\n",
    "    feature_df.id = feature_df.id.astype('int32')\n",
    "    if isinstance(pG, MGPropertyGraph):\n",
    "        feature_df = dask_cudf.from_cudf(feature_df, npartitions=2)\n",
    "\n",
    "    pG.add_vertex_data(feature_df, vertex_col_name='id', type_name=node_type)"
   ]
  },
  {
   "cell_type": "markdown",
   "metadata": {},
   "source": [
    "### Add the Edges"
   ]
  },
  {
   "cell_type": "code",
   "execution_count": 5,
   "metadata": {},
   "outputs": [
    {
     "name": "stdout",
     "output_type": "stream",
     "text": [
      "author affiliated_with institution\n",
      "author writes paper\n",
      "paper cites paper\n",
      "paper has_topic field_of_study\n"
     ]
    }
   ],
   "source": [
    "for i, (edge_key, eidx) in enumerate(data[0]['edge_index_dict'].items()):\n",
    "    node_type_src, edge_type, node_type_dst = edge_key\n",
    "    print(node_type_src, edge_type, node_type_dst)\n",
    "    vertex_offset_src = vertex_offsets[node_type_src]\n",
    "    vertex_offset_dst = vertex_offsets[node_type_dst]\n",
    "    eidx = [n + vertex_offset_src for n in eidx[0]], [n + vertex_offset_dst for n in eidx[1]]\n",
    "\n",
    "    edge_df = cudf.DataFrame({'src':eidx[0], 'dst':eidx[1]})\n",
    "    edge_df.src = edge_df.src.astype('int32')\n",
    "    edge_df.dst = edge_df.dst.astype('int32')\n",
    "    edge_df['type'] = edge_type\n",
    "    if isinstance(pG, MGPropertyGraph):\n",
    "        edge_df = dask_cudf.from_cudf(edge_df, npartitions=2)\n",
    "\n",
    "    # Adding backwards edges is currently required in both the cuGraph PG and PyG APIs.\n",
    "    pG.add_edge_data(edge_df, vertex_col_names=['src','dst'], type_name=edge_type)\n",
    "    pG.add_edge_data(edge_df, vertex_col_names=['dst','src'], type_name=f'{edge_type}_bw')"
   ]
  },
  {
   "cell_type": "markdown",
   "metadata": {},
   "source": [
    "### Add the Target Variable"
   ]
  },
  {
   "cell_type": "code",
   "execution_count": 6,
   "metadata": {},
   "outputs": [],
   "source": [
    "y_df = cudf.DataFrame(data[1]['paper'], columns=['y'])\n",
    "y_df['id'] = range(vertex_offsets['paper'], vertex_offsets['paper'] + len(y_df))\n",
    "y_df.id = y_df.id.astype('int32')\n",
    "if isinstance(pG, MGPropertyGraph):\n",
    "    y_df = dask_cudf.from_cudf(y_df, npartitions=2)\n",
    "\n",
    "pG.add_vertex_data(y_df, vertex_col_name='id', type_name='paper')"
   ]
  },
  {
   "cell_type": "markdown",
   "metadata": {},
   "source": [
    "### Construct a Graph Store, Feature Store, and Loaders"
   ]
  },
  {
   "cell_type": "code",
   "execution_count": 7,
   "metadata": {},
   "outputs": [
    {
     "name": "stdout",
     "output_type": "stream",
     "text": [
      "Skipping definition of feature y for type institution (null encountered)\n",
      "Skipping definition of feature x for type institution (null encountered for all properties)\n",
      "Skipping definition of feature y for type author (null encountered)\n",
      "Skipping definition of feature x for type author (null encountered for all properties)\n",
      "Skipping definition of feature y for type field_of_study (null encountered)\n",
      "Skipping definition of feature x for type field_of_study (null encountered for all properties)\n"
     ]
    }
   ],
   "source": [
    "from cugraph.gnn.pyg_extensions import to_pyg\n",
    "\n",
    "feature_store, graph_store = to_pyg(pG, backend='cupy')"
   ]
  },
  {
   "cell_type": "code",
   "execution_count": 8,
   "metadata": {},
   "outputs": [],
   "source": [
    "from cugraph.gnn.pyg_extensions import CuGraphSampler\n",
    "sampler = CuGraphSampler(\n",
    "    data=(feature_store, graph_store),\n",
    "    shuffle=True,\n",
    "    num_neighbors=[10,25],\n",
    "    batch_size=50,\n",
    ")"
   ]
  },
  {
   "cell_type": "code",
   "execution_count": 10,
   "metadata": {},
   "outputs": [
    {
     "name": "stdout",
     "output_type": "stream",
     "text": [
      "[None] CuGraphEdgeAttr(edge_type=('institution', 'affiliated_with_bw', 'author'), layout=<EdgeLayout.COO: 'coo'>, is_sorted=False, size=(1043998, 1043998))\n",
      "(1043998, 1043998)\n",
      "[None] CuGraphEdgeAttr(edge_type=('institution', 'affiliated_with_bw', 'author'), layout=<EdgeLayout.COO: 'coo'>, is_sorted=False, size=(1043998, 1043998))\n",
      "(1043998, 1043998)\n"
     ]
    }
   ],
   "source": [
    "from torch_geometric.loader import NodeLoader\n",
    "loader = NodeLoader(\n",
    "    data=(feature_store, graph_store),\n",
    "    shuffle=True,\n",
    "    batch_size=50,\n",
    "    node_sampler=sampler,\n",
    "    input_nodes='author'\n",
    ")\n",
    "\n",
    "test_loader = NodeLoader(\n",
    "    data=(feature_store, graph_store),\n",
    "    shuffle=True,\n",
    "    batch_size=50,\n",
    "    node_sampler=sampler,\n",
    "    input_nodes='author'\n",
    ")\n"
   ]
  },
  {
   "cell_type": "markdown",
   "metadata": {},
   "source": [
    "### Create the Network"
   ]
  },
  {
   "cell_type": "code",
   "execution_count": 11,
   "metadata": {},
   "outputs": [
    {
     "data": {
      "text/plain": [
       "[('institution', 'affiliated_with_bw', 'author'),\n",
       " ('author', 'affiliated_with', 'institution'),\n",
       " ('paper', 'cites', 'paper'),\n",
       " ('paper', 'has_topic', 'field_of_study'),\n",
       " ('field_of_study', 'has_topic_bw', 'paper'),\n",
       " ('paper', 'writes_bw', 'author'),\n",
       " ('paper', 'cites_bw', 'paper'),\n",
       " ('author', 'writes', 'paper')]"
      ]
     },
     "execution_count": 11,
     "metadata": {},
     "output_type": "execute_result"
    }
   ],
   "source": [
    "edge_types = [attr.edge_type for attr in graph_store.get_all_edge_attrs()]\n",
    "edge_types"
   ]
  },
  {
   "cell_type": "code",
   "execution_count": 12,
   "metadata": {},
   "outputs": [
    {
     "data": {
      "text/plain": [
       "349"
      ]
     },
     "execution_count": 12,
     "metadata": {},
     "output_type": "execute_result"
    }
   ],
   "source": [
    "num_classes = pG.get_vertex_data(columns=['y'])['y'].max() + 1\n",
    "if isinstance(pG, MGPropertyGraph):\n",
    "    num_classes = num_classes.compute()\n",
    "num_classes"
   ]
  },
  {
   "cell_type": "code",
   "execution_count": 13,
   "metadata": {},
   "outputs": [
    {
     "ename": "TypeError",
     "evalue": "'method' object is not iterable",
     "output_type": "error",
     "traceback": [
      "\u001b[0;31m---------------------------------------------------------------------------\u001b[0m",
      "\u001b[0;31mTypeError\u001b[0m                                 Traceback (most recent call last)",
      "Cell \u001b[0;32mIn [13], line 1\u001b[0m\n\u001b[0;32m----> 1\u001b[0m \u001b[38;5;28mnext\u001b[39m(\u001b[38;5;28miter\u001b[39m(loader))\n",
      "File \u001b[0;32m/work/pytorch_geometric/torch_geometric/loader/base.py:36\u001b[0m, in \u001b[0;36mDataLoaderIterator.__next__\u001b[0;34m(self)\u001b[0m\n\u001b[1;32m     35\u001b[0m \u001b[39mdef\u001b[39;00m \u001b[39m__next__\u001b[39m(\u001b[39mself\u001b[39m) \u001b[39m-\u001b[39m\u001b[39m>\u001b[39m Any:\n\u001b[0;32m---> 36\u001b[0m     \u001b[39mreturn\u001b[39;00m \u001b[39mself\u001b[39m\u001b[39m.\u001b[39mtransform_fn(\u001b[39mnext\u001b[39;49m(\u001b[39mself\u001b[39;49m\u001b[39m.\u001b[39;49miterator))\n",
      "File \u001b[0;32m/opt/conda/envs/rapids/lib/python3.9/site-packages/torch/utils/data/dataloader.py:530\u001b[0m, in \u001b[0;36m_BaseDataLoaderIter.__next__\u001b[0;34m(self)\u001b[0m\n\u001b[1;32m    528\u001b[0m \u001b[39mif\u001b[39;00m \u001b[39mself\u001b[39m\u001b[39m.\u001b[39m_sampler_iter \u001b[39mis\u001b[39;00m \u001b[39mNone\u001b[39;00m:\n\u001b[1;32m    529\u001b[0m     \u001b[39mself\u001b[39m\u001b[39m.\u001b[39m_reset()\n\u001b[0;32m--> 530\u001b[0m data \u001b[39m=\u001b[39m \u001b[39mself\u001b[39;49m\u001b[39m.\u001b[39;49m_next_data()\n\u001b[1;32m    531\u001b[0m \u001b[39mself\u001b[39m\u001b[39m.\u001b[39m_num_yielded \u001b[39m+\u001b[39m\u001b[39m=\u001b[39m \u001b[39m1\u001b[39m\n\u001b[1;32m    532\u001b[0m \u001b[39mif\u001b[39;00m \u001b[39mself\u001b[39m\u001b[39m.\u001b[39m_dataset_kind \u001b[39m==\u001b[39m _DatasetKind\u001b[39m.\u001b[39mIterable \u001b[39mand\u001b[39;00m \\\n\u001b[1;32m    533\u001b[0m         \u001b[39mself\u001b[39m\u001b[39m.\u001b[39m_IterableDataset_len_called \u001b[39mis\u001b[39;00m \u001b[39mnot\u001b[39;00m \u001b[39mNone\u001b[39;00m \u001b[39mand\u001b[39;00m \\\n\u001b[1;32m    534\u001b[0m         \u001b[39mself\u001b[39m\u001b[39m.\u001b[39m_num_yielded \u001b[39m>\u001b[39m \u001b[39mself\u001b[39m\u001b[39m.\u001b[39m_IterableDataset_len_called:\n",
      "File \u001b[0;32m/opt/conda/envs/rapids/lib/python3.9/site-packages/torch/utils/data/dataloader.py:570\u001b[0m, in \u001b[0;36m_SingleProcessDataLoaderIter._next_data\u001b[0;34m(self)\u001b[0m\n\u001b[1;32m    568\u001b[0m \u001b[39mdef\u001b[39;00m \u001b[39m_next_data\u001b[39m(\u001b[39mself\u001b[39m):\n\u001b[1;32m    569\u001b[0m     index \u001b[39m=\u001b[39m \u001b[39mself\u001b[39m\u001b[39m.\u001b[39m_next_index()  \u001b[39m# may raise StopIteration\u001b[39;00m\n\u001b[0;32m--> 570\u001b[0m     data \u001b[39m=\u001b[39m \u001b[39mself\u001b[39;49m\u001b[39m.\u001b[39;49m_dataset_fetcher\u001b[39m.\u001b[39;49mfetch(index)  \u001b[39m# may raise StopIteration\u001b[39;00m\n\u001b[1;32m    571\u001b[0m     \u001b[39mif\u001b[39;00m \u001b[39mself\u001b[39m\u001b[39m.\u001b[39m_pin_memory:\n\u001b[1;32m    572\u001b[0m         data \u001b[39m=\u001b[39m _utils\u001b[39m.\u001b[39mpin_memory\u001b[39m.\u001b[39mpin_memory(data)\n",
      "File \u001b[0;32m/opt/conda/envs/rapids/lib/python3.9/site-packages/torch/utils/data/_utils/fetch.py:52\u001b[0m, in \u001b[0;36m_MapDatasetFetcher.fetch\u001b[0;34m(self, possibly_batched_index)\u001b[0m\n\u001b[1;32m     50\u001b[0m \u001b[39melse\u001b[39;00m:\n\u001b[1;32m     51\u001b[0m     data \u001b[39m=\u001b[39m \u001b[39mself\u001b[39m\u001b[39m.\u001b[39mdataset[possibly_batched_index]\n\u001b[0;32m---> 52\u001b[0m \u001b[39mreturn\u001b[39;00m \u001b[39mself\u001b[39;49m\u001b[39m.\u001b[39;49mcollate_fn(data)\n",
      "File \u001b[0;32m/work/pytorch_geometric/torch_geometric/loader/node_loader.py:130\u001b[0m, in \u001b[0;36mNodeLoader.collate_fn\u001b[0;34m(self, index)\u001b[0m\n\u001b[1;32m    127\u001b[0m \u001b[39mif\u001b[39;00m \u001b[39misinstance\u001b[39m(index, (\u001b[39mlist\u001b[39m, \u001b[39mtuple\u001b[39m)):\n\u001b[1;32m    128\u001b[0m     index \u001b[39m=\u001b[39m torch\u001b[39m.\u001b[39mtensor(index)\n\u001b[0;32m--> 130\u001b[0m out \u001b[39m=\u001b[39m \u001b[39mself\u001b[39;49m\u001b[39m.\u001b[39;49mnode_sampler\u001b[39m.\u001b[39;49msample_from_nodes(index)\n\u001b[1;32m    131\u001b[0m \u001b[39mif\u001b[39;00m \u001b[39mself\u001b[39m\u001b[39m.\u001b[39mfilter_per_worker:\n\u001b[1;32m    132\u001b[0m     \u001b[39m# We execute `filter_fn` in the worker process.\u001b[39;00m\n\u001b[1;32m    133\u001b[0m     out \u001b[39m=\u001b[39m \u001b[39mself\u001b[39m\u001b[39m.\u001b[39mfilter_fn(out)\n",
      "File \u001b[0;32m/opt/conda/envs/rapids/lib/python3.9/site-packages/cugraph-22.6.0a0+329.g68dab245.dirty-py3.9-linux-x86_64.egg/cugraph/gnn/pyg_extensions/sampler/cugraph_sampler.py:48\u001b[0m, in \u001b[0;36mEXPERIMENTAL__CuGraphSampler.sample_from_nodes\u001b[0;34m(self, index)\u001b[0m\n\u001b[1;32m     44\u001b[0m \u001b[39m\"\"\"\u001b[39;00m\n\u001b[1;32m     45\u001b[0m \u001b[39mindex: input node tensor\u001b[39;00m\n\u001b[1;32m     46\u001b[0m \u001b[39m\"\"\"\u001b[39;00m\n\u001b[1;32m     47\u001b[0m \u001b[39mif\u001b[39;00m \u001b[39mself\u001b[39m\u001b[39m.\u001b[39m__method \u001b[39m==\u001b[39m \u001b[39mself\u001b[39m\u001b[39m.\u001b[39mUNIFORM_NEIGHBOR:\n\u001b[0;32m---> 48\u001b[0m     \u001b[39mreturn\u001b[39;00m \u001b[39mself\u001b[39;49m\u001b[39m.\u001b[39;49m__neighbor_sample(index, \u001b[39m*\u001b[39;49m\u001b[39m*\u001b[39;49m\u001b[39mself\u001b[39;49m\u001b[39m.\u001b[39;49m__sampling_args)\n",
      "File \u001b[0;32m/opt/conda/envs/rapids/lib/python3.9/site-packages/cugraph-22.6.0a0+329.g68dab245.dirty-py3.9-linux-x86_64.egg/cugraph/gnn/pyg_extensions/sampler/cugraph_sampler.py:90\u001b[0m, in \u001b[0;36mEXPERIMENTAL__CuGraphSampler.__neighbor_sample\u001b[0;34m(self, index, num_neighbors, replace, directed, edge_types, **kwargs)\u001b[0m\n\u001b[1;32m     87\u001b[0m     \u001b[39mraise\u001b[39;00m \u001b[39mValueError\u001b[39;00m(\u001b[39m\"\u001b[39m\u001b[39mUndirected sampling not currently supported\u001b[39m\u001b[39m\"\u001b[39m)\n\u001b[1;32m     89\u001b[0m \u001b[39mif\u001b[39;00m edge_types \u001b[39mis\u001b[39;00m \u001b[39mNone\u001b[39;00m:\n\u001b[0;32m---> 90\u001b[0m     edge_types \u001b[39m=\u001b[39m [\n\u001b[1;32m     91\u001b[0m         attr\u001b[39m.\u001b[39medge_type \u001b[39mfor\u001b[39;00m attr \u001b[39min\u001b[39;00m \u001b[39mself\u001b[39m\u001b[39m.\u001b[39m__graph_store\u001b[39m.\u001b[39mget_all_edge_attrs\n\u001b[1;32m     92\u001b[0m     ]\n\u001b[1;32m     94\u001b[0m \u001b[39mif\u001b[39;00m \u001b[39misinstance\u001b[39m(num_neighbors, \u001b[39mdict\u001b[39m):\n\u001b[1;32m     95\u001b[0m     \u001b[39m# FIXME support variable num neighbors per edge type\u001b[39;00m\n\u001b[1;32m     96\u001b[0m     num_neighbors \u001b[39m=\u001b[39m \u001b[39mlist\u001b[39m(num_neighbors\u001b[39m.\u001b[39mvalues())[\u001b[39m0\u001b[39m]\n",
      "\u001b[0;31mTypeError\u001b[0m: 'method' object is not iterable"
     ]
    }
   ],
   "source": [
    "next(iter(loader))"
   ]
  },
  {
   "cell_type": "code",
   "execution_count": null,
   "metadata": {},
   "outputs": [],
   "source": [
    "import torch\n",
    "import torch.nn.functional as F\n",
    "\n",
    "from torch_geometric.nn import HeteroConv, Linear, SAGEConv\n",
    "\n",
    "class HeteroGNN(torch.nn.Module):\n",
    "    def __init__(self, edge_types, hidden_channels, out_channels, num_layers):\n",
    "        super().__init__()\n",
    "\n",
    "        self.convs = torch.nn.ModuleList()\n",
    "        for _ in range(num_layers):\n",
    "            conv = HeteroConv({\n",
    "                edge_type: SAGEConv((-1, -1), hidden_channels)\n",
    "                for edge_type in edge_types\n",
    "            })\n",
    "            self.convs.append(conv)\n",
    "\n",
    "        self.lin = Linear(hidden_channels, out_channels)\n",
    "\n",
    "    def forward(self, x_dict, edge_index_dict):\n",
    "        for conv in self.convs:\n",
    "            x_dict = conv(x_dict, edge_index_dict)\n",
    "            x_dict = {key: F.leaky_relu(x) for key, x in x_dict.items()}\n",
    "        print(x_dict, edge_index_dict)\n",
    "        return self.lin(x_dict['paper'])\n",
    "\n",
    "\n",
    "model = HeteroGNN(edge_types, hidden_channels=64, out_channels=num_classes,\n",
    "                  num_layers=2).cuda()\n",
    "\n",
    "with torch.no_grad():  # Initialize lazy modules.\n",
    "    data = next(iter(loader))\n",
    "    out = model(data.x_dict, data.edge_index_dict)\n",
    "\n",
    "optimizer = torch.optim.Adam(model.parameters(), lr=0.005, weight_decay=0.001)\n",
    "\n",
    "num_batches = 5\n",
    "def train():\n",
    "    model.train()\n",
    "    optimizer.zero_grad()\n",
    "    for b_i, data in enumerate(loader):\n",
    "        if b_i == num_batches:\n",
    "            break\n",
    "\n",
    "        out = model(data.x_dict, data.edge_index_dict)\n",
    "        loss = F.cross_entropy(out, data.y_dict['paper'])\n",
    "        loss.backward()\n",
    "        optimizer.step()\n",
    "    \n",
    "    return float(loss) / num_batches\n",
    "\n",
    "\n",
    "@torch.no_grad()\n",
    "def test():\n",
    "    model.eval()\n",
    "    test_iter = iter(test_loader)\n",
    "\n",
    "    acc = 0.0\n",
    "    for _ in range(2*num_batches):\n",
    "        data = next(test_iter)\n",
    "        pred = model(data.x_dict, data.edge_index_dict).argmax(dim=-1)\n",
    "\n",
    "        \n",
    "        acc += (pred == data['paper'].y).sum() / len(data['paper'])\n",
    "    return acc / (2*num_batches)\n",
    "\n",
    "\n",
    "for epoch in range(1, 101):\n",
    "    loss = train()\n",
    "    train_acc = test()\n",
    "    print(f'Epoch: {epoch:03d}, Loss: {loss:.4f}, Train: {train_acc:.4f}')\n"
   ]
  },
  {
   "cell_type": "markdown",
   "metadata": {},
   "source": [
    "### Train the Network"
   ]
  },
  {
   "cell_type": "code",
   "execution_count": null,
   "metadata": {},
   "outputs": [],
   "source": [
    "for epoch in range(1, 101):\n",
    "    loss = train()\n",
    "    train_acc = test()\n",
    "    print(f'Epoch: {epoch:03d}, Loss: {loss:.4f}, Train: {train_acc:.4f}')"
   ]
  }
 ],
 "metadata": {
  "kernelspec": {
   "display_name": "Python 3.9.7 ('base')",
   "language": "python",
   "name": "python3"
  },
  "language_info": {
   "codemirror_mode": {
    "name": "ipython",
    "version": 3
   },
   "file_extension": ".py",
   "mimetype": "text/x-python",
   "name": "python",
   "nbconvert_exporter": "python",
   "pygments_lexer": "ipython3",
   "version": "3.9.13"
  },
  "orig_nbformat": 4,
  "vscode": {
   "interpreter": {
    "hash": "f708a36acfaef0acf74ccd43dfb58100269bf08fb79032a1e0a6f35bd9856f51"
   }
  }
 },
 "nbformat": 4,
 "nbformat_minor": 2
}
