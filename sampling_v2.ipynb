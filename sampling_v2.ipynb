{
 "cells": [
  {
   "cell_type": "code",
   "execution_count": 1,
   "metadata": {},
   "outputs": [],
   "source": [
    "import pandas\n",
    "el = pandas.read_parquet('/datasets/abarghi/ogbn_papers100M/parquet/paper__cites__paper/edge_index.parquet')"
   ]
  },
  {
   "cell_type": "code",
   "execution_count": 2,
   "metadata": {},
   "outputs": [
    {
     "data": {
      "text/plain": [
       "HeteroData(\n",
       "  paper={ num_nodes=111059954 },\n",
       "  (paper, cites, paper)={ edge_index=[2, 1615685872] }\n",
       ")"
      ]
     },
     "execution_count": 2,
     "metadata": {},
     "output_type": "execute_result"
    }
   ],
   "source": [
    "import torch\n",
    "from torch_geometric.data import HeteroData\n",
    "\n",
    "sz = max(el.src.max(), el.dst.max()) - 1\n",
    "\n",
    "data = HeteroData()\n",
    "\n",
    "data.put_edge_index(\n",
    "    torch.stack([torch.as_tensor(el.src.values), torch.as_tensor(el.dst.values)]),\n",
    "    edge_type=('paper','cites','paper'),\n",
    "    layout='coo',\n",
    "    is_sorted=False,\n",
    "    size=(sz, sz)\n",
    ")\n",
    "\n",
    "data['paper']['num_nodes'] = sz\n",
    "\n",
    "\n",
    "data"
   ]
  },
  {
   "cell_type": "code",
   "execution_count": 3,
   "metadata": {},
   "outputs": [],
   "source": [
    "from torch_geometric.sampler import NeighborSampler\n",
    "\n",
    "sampler_disjoint = NeighborSampler(\n",
    "    data,\n",
    "    num_neighbors={('paper','cites','paper'):[3]},\n",
    "    disjoint=True,\n",
    "    replace=False,\n",
    ")\n",
    "\n",
    "sampler_default = NeighborSampler(\n",
    "    data,\n",
    "    num_neighbors={('paper','cites','paper'):[3]},\n",
    "    disjoint=False,\n",
    "    replace=False,\n",
    ")\n",
    "\n",
    "from torch_geometric.sampler import NodeSamplerInput\n",
    "\n",
    "sampler_input = NodeSamplerInput(\n",
    "    None,\n",
    "    node=torch.tensor([0,1,7]),\n",
    "    input_type='paper'\n",
    ")\n"
   ]
  },
  {
   "cell_type": "code",
   "execution_count": 4,
   "metadata": {},
   "outputs": [
    {
     "name": "stdout",
     "output_type": "stream",
     "text": [
      "537 ms ± 30.5 ms per loop (mean ± std. dev. of 7 runs, 1 loop each)\n"
     ]
    }
   ],
   "source": [
    "%%timeit\n",
    "sampler_default.sample_from_nodes(sampler_input)"
   ]
  },
  {
   "cell_type": "code",
   "execution_count": 5,
   "metadata": {},
   "outputs": [
    {
     "name": "stdout",
     "output_type": "stream",
     "text": [
      "110 µs ± 317 ns per loop (mean ± std. dev. of 7 runs, 10,000 loops each)\n"
     ]
    }
   ],
   "source": [
    "%%timeit\n",
    "sampler_disjoint.sample_from_nodes(sampler_input)"
   ]
  },
  {
   "cell_type": "code",
   "execution_count": 6,
   "metadata": {},
   "outputs": [
    {
     "name": "stdout",
     "output_type": "stream",
     "text": [
      "converting to csc...\n"
     ]
    }
   ],
   "source": [
    "print('converting to csc...')\n",
    "from torch_geometric.utils.sparse import index2ptr\n",
    "src = torch.as_tensor(el['src'].values)\n",
    "dst = torch.as_tensor(el['dst'].values)\n",
    "dst = index2ptr(dst, max(src.max(), dst.max()) - 1)\n"
   ]
  },
  {
   "cell_type": "code",
   "execution_count": 7,
   "metadata": {},
   "outputs": [
    {
     "name": "stdout",
     "output_type": "stream",
     "text": [
      "506 ms ± 2.62 ms per loop (mean ± std. dev. of 7 runs, 1 loop each)\n"
     ]
    }
   ],
   "source": [
    "%%timeit\n",
    "torch.ops.pyg.neighbor_sample(\n",
    "    dst,\n",
    "    src,\n",
    "    torch.arange(5),  # seed\n",
    "    [10,25],\n",
    "    time=None,\n",
    "    seed_time=None,\n",
    "    csc=True,  # csc\n",
    "    replace=False,\n",
    "    directed=True,\n",
    "    disjoint=False,\n",
    "    temporal_strategy='uniform',\n",
    "    return_edge_id=True,  # return_edge_id\n",
    ")"
   ]
  },
  {
   "cell_type": "code",
   "execution_count": 8,
   "metadata": {},
   "outputs": [
    {
     "name": "stdout",
     "output_type": "stream",
     "text": [
      "27.9 µs ± 189 ns per loop (mean ± std. dev. of 7 runs, 10,000 loops each)\n"
     ]
    }
   ],
   "source": [
    "%%timeit\n",
    "torch.ops.pyg.neighbor_sample(\n",
    "    dst,\n",
    "    src,\n",
    "    torch.arange(5),  # seed\n",
    "    [10,25],\n",
    "    time=None,\n",
    "    seed_time=None,\n",
    "    csc=True,  # csc\n",
    "    replace=False,\n",
    "    directed=True,\n",
    "    disjoint=True,\n",
    "    temporal_strategy='uniform',\n",
    "    return_edge_id=True,  # return_edge_id\n",
    ")"
   ]
  },
  {
   "cell_type": "code",
   "execution_count": null,
   "metadata": {},
   "outputs": [],
   "source": []
  }
 ],
 "metadata": {
  "kernelspec": {
   "display_name": "Python 3.10.11 ('base')",
   "language": "python",
   "name": "python3"
  },
  "language_info": {
   "codemirror_mode": {
    "name": "ipython",
    "version": 3
   },
   "file_extension": ".py",
   "mimetype": "text/x-python",
   "name": "python",
   "nbconvert_exporter": "python",
   "pygments_lexer": "ipython3",
   "version": "3.10.11"
  },
  "orig_nbformat": 4,
  "vscode": {
   "interpreter": {
    "hash": "f708a36acfaef0acf74ccd43dfb58100269bf08fb79032a1e0a6f35bd9856f51"
   }
  }
 },
 "nbformat": 4,
 "nbformat_minor": 2
}
