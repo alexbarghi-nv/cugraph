{
 "cells": [
  {
   "cell_type": "code",
   "execution_count": 1,
   "metadata": {},
   "outputs": [
    {
     "name": "stderr",
     "output_type": "stream",
     "text": [
      "2022-05-18 20:09:21,992 - distributed.diskutils - INFO - Found stale lock file and directory '/root/cugraph/testing/dask-worker-space/worker-14xf1dwk', purging\n",
      "2022-05-18 20:09:21,992 - distributed.diskutils - INFO - Found stale lock file and directory '/root/cugraph/testing/dask-worker-space/worker-14_bx41d', purging\n",
      "2022-05-18 20:09:21,993 - distributed.diskutils - INFO - Found stale lock file and directory '/root/cugraph/testing/dask-worker-space/worker-phli1i9q', purging\n",
      "2022-05-18 20:09:21,993 - distributed.diskutils - INFO - Found stale lock file and directory '/root/cugraph/testing/dask-worker-space/worker-ekqa9enz', purging\n",
      "2022-05-18 20:09:21,993 - distributed.diskutils - INFO - Found stale lock file and directory '/root/cugraph/testing/dask-worker-space/worker-y77x0ytl', purging\n",
      "2022-05-18 20:09:21,993 - distributed.diskutils - INFO - Found stale lock file and directory '/root/cugraph/testing/dask-worker-space/worker-807hal14', purging\n",
      "2022-05-18 20:09:21,994 - distributed.diskutils - INFO - Found stale lock file and directory '/root/cugraph/testing/dask-worker-space/worker-sv410h22', purging\n",
      "2022-05-18 20:09:21,994 - distributed.diskutils - INFO - Found stale lock file and directory '/root/cugraph/testing/dask-worker-space/worker-myjjhguf', purging\n",
      "2022-05-18 20:09:21,994 - distributed.preloading - INFO - Import preload module: dask_cuda.initialize\n",
      "2022-05-18 20:09:22,025 - distributed.preloading - INFO - Import preload module: dask_cuda.initialize\n",
      "2022-05-18 20:09:22,039 - distributed.preloading - INFO - Import preload module: dask_cuda.initialize\n",
      "2022-05-18 20:09:22,044 - distributed.preloading - INFO - Import preload module: dask_cuda.initialize\n",
      "2022-05-18 20:09:22,050 - distributed.preloading - INFO - Import preload module: dask_cuda.initialize\n",
      "2022-05-18 20:09:22,051 - distributed.preloading - INFO - Import preload module: dask_cuda.initialize\n",
      "2022-05-18 20:09:22,054 - distributed.preloading - INFO - Import preload module: dask_cuda.initialize\n",
      "2022-05-18 20:09:22,064 - distributed.preloading - INFO - Import preload module: dask_cuda.initialize\n",
      "/opt/conda/envs/rapids/lib/python3.8/site-packages/cudf/core/dataframe.py:1055: FutureWarning: The default dtype for empty Series will be 'object' instead of 'float64' in a future version. Specify a dtype explicitly to silence this warning.\n",
      "  return pd.Series(self._dtypes)\n"
     ]
    },
    {
     "ename": "TypeError",
     "evalue": "bfs() got an unexpected keyword argument 'do_expensive_check'",
     "output_type": "error",
     "traceback": [
      "\u001b[0;31m---------------------------------------------------------------------------\u001b[0m",
      "\u001b[0;31mTypeError\u001b[0m                                 Traceback (most recent call last)",
      "\u001b[0;32m/tmp/ipykernel_14334/244951834.py\u001b[0m in \u001b[0;36m<module>\u001b[0;34m\u001b[0m\n\u001b[1;32m     25\u001b[0m \u001b[0;34m\u001b[0m\u001b[0m\n\u001b[1;32m     26\u001b[0m \u001b[0;31m# now run PageRank\u001b[0m\u001b[0;34m\u001b[0m\u001b[0;34m\u001b[0m\u001b[0;34m\u001b[0m\u001b[0m\n\u001b[0;32m---> 27\u001b[0;31m \u001b[0mpr_df\u001b[0m \u001b[0;34m=\u001b[0m \u001b[0mdask_cugraph\u001b[0m\u001b[0;34m.\u001b[0m\u001b[0mbfs\u001b[0m\u001b[0;34m(\u001b[0m\u001b[0mG\u001b[0m\u001b[0;34m,\u001b[0m \u001b[0;36m1\u001b[0m\u001b[0;34m,\u001b[0m \u001b[0mdepth_limit\u001b[0m\u001b[0;34m=\u001b[0m\u001b[0;36m10\u001b[0m\u001b[0;34m,\u001b[0m \u001b[0mdo_expensive_check\u001b[0m\u001b[0;34m=\u001b[0m\u001b[0;32mTrue\u001b[0m\u001b[0;34m)\u001b[0m\u001b[0;34m\u001b[0m\u001b[0;34m\u001b[0m\u001b[0m\n\u001b[0m\u001b[1;32m     28\u001b[0m \u001b[0;34m\u001b[0m\u001b[0m\n\u001b[1;32m     29\u001b[0m \u001b[0;31m# All done, clean up\u001b[0m\u001b[0;34m\u001b[0m\u001b[0;34m\u001b[0m\u001b[0;34m\u001b[0m\u001b[0m\n",
      "\u001b[0;31mTypeError\u001b[0m: bfs() got an unexpected keyword argument 'do_expensive_check'"
     ]
    }
   ],
   "source": [
    "from dask.distributed import Client, wait\n",
    "from dask_cuda import LocalCUDACluster\n",
    "from cugraph.dask.comms import comms\n",
    "import cugraph.dask as dask_cugraph\n",
    "import cugraph, dask_cudf\n",
    "\n",
    "input_data_path = '../datasets/karate.csv'\n",
    "\n",
    "cluster = LocalCUDACluster()\n",
    "client = Client(cluster)\n",
    "comms.initialize(p2p=True)\n",
    "\n",
    "# Helper function to set the reader chunk size to automatically get one partition per GPU\n",
    "chunksize = dask_cugraph.get_chunksize(input_data_path)\n",
    "\n",
    "# Multi-GPU CSV reader\n",
    "e_list = dask_cudf.read_csv(input_data_path,\n",
    "        chunksize = chunksize,\n",
    "        delimiter=' ',\n",
    "        names=['src', 'dst'],\n",
    "        dtype=['int32', 'int32'])\n",
    "\n",
    "G = cugraph.DiGraph()\n",
    "G.from_dask_cudf_edgelist(e_list, source='src', destination='dst')\n",
    "\n",
    "# now run PageRank\n",
    "pr_df = dask_cugraph.bfs(G, 1, depth_limit=10)\n",
    "\n",
    "# All done, clean up\n",
    "comms.destroy()\n",
    "client.close()\n",
    "cluster.close()\n",
    "\n",
    "pr_df"
   ]
  },
  {
   "cell_type": "code",
   "execution_count": null,
   "metadata": {},
   "outputs": [],
   "source": [
    "comms.destroy()\n",
    "client.close()\n",
    "cluster.close()"
   ]
  },
  {
   "cell_type": "code",
   "execution_count": null,
   "metadata": {},
   "outputs": [],
   "source": []
  }
 ],
 "metadata": {
  "interpreter": {
   "hash": "f708a36acfaef0acf74ccd43dfb58100269bf08fb79032a1e0a6f35bd9856f51"
  },
  "kernelspec": {
   "display_name": "Python 3.8.10 ('base')",
   "language": "python",
   "name": "python3"
  },
  "language_info": {
   "codemirror_mode": {
    "name": "ipython",
    "version": 3
   },
   "file_extension": ".py",
   "mimetype": "text/x-python",
   "name": "python",
   "nbconvert_exporter": "python",
   "pygments_lexer": "ipython3",
   "version": "3.8.10"
  },
  "orig_nbformat": 4
 },
 "nbformat": 4,
 "nbformat_minor": 2
}
